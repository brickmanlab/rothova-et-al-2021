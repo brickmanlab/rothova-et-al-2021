{
 "cells": [
  {
   "cell_type": "markdown",
   "metadata": {},
   "source": [
    "# 01 Preprocessing"
   ]
  },
  {
   "cell_type": "code",
   "execution_count": 1,
   "metadata": {
    "execution": {
     "iopub.execute_input": "2022-03-23T15:48:34.289676Z",
     "iopub.status.busy": "2022-03-23T15:48:34.289374Z",
     "iopub.status.idle": "2022-03-23T15:48:35.664553Z",
     "shell.execute_reply": "2022-03-23T15:48:35.663637Z",
     "shell.execute_reply.started": "2022-03-23T15:48:34.289592Z"
    }
   },
   "outputs": [],
   "source": [
    "import glob\n",
    "import pandas as pd\n",
    "import scanpy as sc\n",
    "from natsort import natsorted"
   ]
  },
  {
   "cell_type": "markdown",
   "metadata": {},
   "source": [
    "## _in vivo_ & _in vitro_"
   ]
  },
  {
   "cell_type": "code",
   "execution_count": null,
   "metadata": {},
   "outputs": [],
   "source": [
    "metadata = pd.read_excel(\"../data/raw/metadata.xlsx\", index_col=0)\n",
    "metadata.index = metadata['Well_ID']\n",
    "metadata.SubGroup = metadata.SubGroup.astype(str)"
   ]
  },
  {
   "cell_type": "code",
   "execution_count": null,
   "metadata": {},
   "outputs": [],
   "source": [
    "files = [f\"../data/raw/counts/{batch}.txt\" for batch in natsorted(metadata.Amp_batch_ID.unique())]\n",
    "counts = pd.concat([pd.read_table(x, sep=\" \") for x in files], axis=1).T\n",
    "\n",
    "metadata = metadata.loc[counts.index]"
   ]
  },
  {
   "cell_type": "code",
   "execution_count": null,
   "metadata": {},
   "outputs": [],
   "source": [
    "adata = sc.AnnData(counts, obs=metadata)\n",
    "adata.write(\"../data/processed/01_raw_counts.h5ad\")"
   ]
  },
  {
   "cell_type": "markdown",
   "metadata": {},
   "source": [
    "## SB12"
   ]
  },
  {
   "cell_type": "code",
   "execution_count": 2,
   "metadata": {
    "execution": {
     "iopub.execute_input": "2022-03-23T15:48:37.533026Z",
     "iopub.status.busy": "2022-03-23T15:48:37.532752Z",
     "iopub.status.idle": "2022-03-23T15:48:38.177001Z",
     "shell.execute_reply": "2022-03-23T15:48:38.176271Z",
     "shell.execute_reply.started": "2022-03-23T15:48:37.532995Z"
    }
   },
   "outputs": [
    {
     "name": "stderr",
     "output_type": "stream",
     "text": [
      "/opt/conda/envs/cellrank-1.3.1/lib/python3.7/site-packages/ipykernel_launcher.py:1: FutureWarning: Your version of xlrd is 1.2.0. In xlrd >= 2.0, only the xls format is supported. As a result, the openpyxl engine will be used if it is installed and the engine argument is not specified. Install openpyxl instead.\n",
      "  \"\"\"Entry point for launching an IPython kernel.\n"
     ]
    }
   ],
   "source": [
    "metadata = pd.read_excel(\"../data/raw/metadata_SB12.xlsx\", index_col=0)\n",
    "metadata.index = metadata['Well_ID']"
   ]
  },
  {
   "cell_type": "code",
   "execution_count": 3,
   "metadata": {
    "execution": {
     "iopub.execute_input": "2022-03-23T15:48:44.584924Z",
     "iopub.status.busy": "2022-03-23T15:48:44.584672Z",
     "iopub.status.idle": "2022-03-23T15:48:48.487904Z",
     "shell.execute_reply": "2022-03-23T15:48:48.487321Z",
     "shell.execute_reply.started": "2022-03-23T15:48:44.584896Z"
    }
   },
   "outputs": [],
   "source": [
    "files = [f\"../data/raw/counts/{batch}.txt\" for batch in natsorted(metadata.Amp_batch_ID.unique())]\n",
    "counts = pd.concat([pd.read_table(x, sep=\" \") for x in files], axis=1).T\n",
    "\n",
    "metadata = metadata.loc[counts.index]"
   ]
  },
  {
   "cell_type": "code",
   "execution_count": 4,
   "metadata": {
    "execution": {
     "iopub.execute_input": "2022-03-23T15:49:18.551461Z",
     "iopub.status.busy": "2022-03-23T15:49:18.551197Z",
     "iopub.status.idle": "2022-03-23T15:49:18.938947Z",
     "shell.execute_reply": "2022-03-23T15:49:18.938262Z",
     "shell.execute_reply.started": "2022-03-23T15:49:18.551423Z"
    }
   },
   "outputs": [
    {
     "name": "stderr",
     "output_type": "stream",
     "text": [
      "... storing 'Well_coordinates' as categorical\n",
      "... storing 'Amp_batch_ID' as categorical\n",
      "... storing 'Cell_barcode' as categorical\n",
      "... storing 'Pool_barcode' as categorical\n",
      "... storing 'Batch' as categorical\n",
      "... storing 'Condition' as categorical\n",
      "... storing 'Stage' as categorical\n",
      "... storing 'Source' as categorical\n",
      "... storing 'SubGroup' as categorical\n",
      "... storing 'Day' as categorical\n"
     ]
    }
   ],
   "source": [
    "adata = sc.AnnData(counts, obs=metadata)\n",
    "adata.write(\"../data/processed/06_rawcounts.h5ad\")"
   ]
  },
  {
   "cell_type": "code",
   "execution_count": null,
   "metadata": {},
   "outputs": [],
   "source": [
    "!jupyter nbconvert --to html 01_preprocessing.ipynb --output-dir=\"../reports\""
   ]
  }
 ],
 "metadata": {
  "kernelspec": {
   "display_name": "Python [conda env:cellrank-1.3.1]",
   "language": "python",
   "name": "conda-env-cellrank-1.3.1-py"
  },
  "language_info": {
   "codemirror_mode": {
    "name": "ipython",
    "version": 3
   },
   "file_extension": ".py",
   "mimetype": "text/x-python",
   "name": "python",
   "nbconvert_exporter": "python",
   "pygments_lexer": "ipython3",
   "version": "3.7.10"
  }
 },
 "nbformat": 4,
 "nbformat_minor": 4
}
